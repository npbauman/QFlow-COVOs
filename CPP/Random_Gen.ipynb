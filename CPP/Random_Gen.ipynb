{
 "cells": [
  {
   "cell_type": "code",
   "execution_count": 9,
   "id": "8e526191",
   "metadata": {},
   "outputs": [
    {
     "name": "stdout",
     "output_type": "stream",
     "text": [
      "\n",
      "Running iterations...\n",
      "  Iteration 1: New minimum found: 232269\n",
      "  Iteration 1: New minimum found: 232269\n",
      "  Iteration 3: New minimum found: 225912\n",
      "  Iteration 3: New minimum found: 225912\n",
      "  Iteration 14: New minimum found: 223956\n",
      "  Iteration 14: New minimum found: 223956\n",
      "  Iteration 15: New minimum found: 211547\n",
      "  Iteration 15: New minimum found: 211547\n",
      "  Iteration 16: New minimum found: 200604\n",
      "  Iteration 16: New minimum found: 200604\n",
      "\n",
      "Summary:\n",
      "  Min: 200604\n",
      "  Max: 384144\n",
      "  Avg: 249603.26\n",
      "\n",
      "Summary:\n",
      "  Min: 200604\n",
      "  Max: 384144\n",
      "  Avg: 249603.26\n"
     ]
    }
   ],
   "source": [
    "import itertools\n",
    "import random\n",
    "\n",
    "def generate_combinations(list1, list2):\n",
    "    return set(tuple(sorted(a + b)) for a in itertools.combinations(list1, 2)\n",
    "                                      for b in itertools.combinations(list2, 2))\n",
    "\n",
    "def run_one_iteration(list1, list2, a, b):\n",
    "    all_combos = generate_combinations(list1, list2)\n",
    "    used_combos = set()\n",
    "    used_subsets = set()\n",
    "    subset_count = 0\n",
    "\n",
    "    while used_combos != all_combos:\n",
    "        while True:\n",
    "            subset1 = tuple(sorted(random.sample(list1, a)))\n",
    "            subset2 = tuple(sorted(random.sample(list2, b)))\n",
    "            if (subset1, subset2) not in used_subsets:\n",
    "                used_subsets.add((subset1, subset2))\n",
    "                break\n",
    "\n",
    "        new_combos = generate_combinations(subset1, subset2)\n",
    "        used_combos.update(new_combos)\n",
    "        subset_count += 1\n",
    "\n",
    "    return subset_count\n",
    "\n",
    "def main():\n",
    "    # Inputs\n",
    "    num1 = int(input(\"Enter the size of list 1: \"))\n",
    "    num2 = int(input(\"Enter the size of list 2: \"))\n",
    "    a = int(input(\"Enter subset size for list 1 (a): \"))\n",
    "    b = int(input(\"Enter subset size for list 2 (b): \"))\n",
    "    iterations = int(input(\"Enter the number of iterations: \"))\n",
    "\n",
    "    list1 = list(range(num1))\n",
    "    list2 = list(range(num2))\n",
    "    results = []\n",
    "    min_count_so_far = float('inf') # Initialize with infinity\n",
    "\n",
    "    print(\"\\nRunning iterations...\")\n",
    "    for i in range(iterations):\n",
    "        count = run_one_iteration(list1, list2, a, b)\n",
    "        results.append(count)\n",
    "        if count < min_count_so_far: # Check if new minimum is found\n",
    "            min_count_so_far = count\n",
    "            print(f\"  Iteration {i+1}: New minimum found: {min_count_so_far}\") # Print new minimum\n",
    "\n",
    "    print(\"\\nSummary:\")\n",
    "    print(f\"  Min: {min(results)}\")\n",
    "    print(f\"  Max: {max(results)}\")\n",
    "    print(f\"  Avg: {sum(results)/len(results):.2f}\")\n",
    "\n",
    "if __name__ == \"__main__\":\n",
    "    main()\n"
   ]
  }
 ],
 "metadata": {
  "kernelspec": {
   "display_name": "Python 3",
   "language": "python",
   "name": "python3"
  },
  "language_info": {
   "codemirror_mode": {
    "name": "ipython",
    "version": 3
   },
   "file_extension": ".py",
   "mimetype": "text/x-python",
   "name": "python",
   "nbconvert_exporter": "python",
   "pygments_lexer": "ipython3",
   "version": "3.10.12"
  }
 },
 "nbformat": 4,
 "nbformat_minor": 5
}
