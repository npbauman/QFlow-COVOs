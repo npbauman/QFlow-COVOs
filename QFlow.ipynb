{
 "cells": [
  {
   "cell_type": "code",
   "execution_count": null,
   "metadata": {},
   "outputs": [],
   "source": [
    "# Ion-Ion -> Repulsion energy \n",
    "\n",
    "# One-Electron Integrals \n",
    "#   First line is #Occupied Orbitals (Spatial), # Virtual Orbitals, Number of elements\n",
    "#   - Read into OEI tensor. \n",
    "#   - h(i,j) = h(j,i)\n",
    "#   - create spin-orbital OEI and fill in from spatial. \n",
    "# \n",
    "# Two-electron integrals\n",
    "#   Two files - Coulomb and Exchange -> Total V\n",
    "#   - Read and fill Coulomb vc\n",
    "#   - Read and fill Exchange vx\n",
    "        #    vc(p,q,s,r) = vc(p,q,r,s)\n",
    "        #    vc(q,p,r,s) = vc(p,q,r,s)\n",
    "        #    vc(q,p,s,r) = vc(p,q,r,s)\n",
    "        #    vc(r,s,p,q) = vc(p,q,r,s)\n",
    "        #    vc(r,s,q,p) = vc(p,q,r,s)\n",
    "        #    vc(s,r,p,q) = vc(p,q,r,s)\n",
    "        #    vc(s,r,q,p) = vc(p,q,r,s)\n",
    "        # 3,1,7,3 = 1,3,7,3 = 3,1,3,7 = 1,3,3,7 = 7,3,3,1 = 3,7,3,1 = 7,3,1,3 = 3,7,3,1"
   ]
  }
 ],
 "metadata": {
  "language_info": {
   "name": "python"
  }
 },
 "nbformat": 4,
 "nbformat_minor": 2
}
